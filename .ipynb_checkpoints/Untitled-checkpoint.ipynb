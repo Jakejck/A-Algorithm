{
 "cells": [
  {
   "cell_type": "markdown",
   "metadata": {},
   "source": [
    "## How we use it ？ \n",
    "\n",
    "In this project, we will use Jupyter Notebook to operate is. The Anconda environment is strongly recommended.\n",
    "\n",
    "At the same time, you should install the following package (Python Package) throng conda and pip.\n",
    "\n",
    "matplotlib\n",
    "plotly.plotly"
   ]
  },
  {
   "cell_type": "markdown",
   "metadata": {},
   "source": [
    "## Introduction\n",
    "\n",
    "In this project，we will use A* search to implement a \"Google-maps\" style route planning algorithm.\n",
    "\n",
    "You could start the file of **project_notebook_final.ipynb** to understand the whole logic.\n",
    "\n",
    "And the core algorithm is written in the **core_code.py** . \n",
    "\n"
   ]
  },
  {
   "cell_type": "markdown",
   "metadata": {},
   "source": [
    "At First, the map is like this :"
   ]
  },
  {
   "cell_type": "markdown",
   "metadata": {},
   "source": [
    "And you need find the shortest way from starting point (black point) to ending point (yellow point).\n",
    "\n",
    "The Example for the result is shown as below:\n",
    "\n",
    "Example 1"
   ]
  },
  {
   "cell_type": "markdown",
   "metadata": {},
   "source": [
    "Example 2"
   ]
  }
 ],
 "metadata": {
  "kernelspec": {
   "display_name": "Python 3",
   "language": "python",
   "name": "python3"
  },
  "language_info": {
   "codemirror_mode": {
    "name": "ipython",
    "version": 3
   },
   "file_extension": ".py",
   "mimetype": "text/x-python",
   "name": "python",
   "nbconvert_exporter": "python",
   "pygments_lexer": "ipython3",
   "version": "3.7.3"
  }
 },
 "nbformat": 4,
 "nbformat_minor": 2
}
